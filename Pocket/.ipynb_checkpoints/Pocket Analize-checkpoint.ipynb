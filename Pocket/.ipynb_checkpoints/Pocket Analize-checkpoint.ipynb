{
 "cells": [
  {
   "cell_type": "markdown",
   "metadata": {},
   "source": [
    "***Step 0***<br/>\n",
    "Import necessary libraries"
   ]
  },
  {
   "cell_type": "code",
   "execution_count": 90,
   "metadata": {},
   "outputs": [],
   "source": [
    "import requests\n",
    "import pandas as pd\n",
    "from pandas.io.json import json_normalize\n",
    "import json\n",
    "import datetime\n",
    "import matplotlib.pyplot as plt\n",
    "%matplotlib inline  "
   ]
  },
  {
   "cell_type": "markdown",
   "metadata": {},
   "source": [
    "***Step 1***<br/>\n",
    "Get a consumer_key by creating a new Pocket application <br/>\n",
    "Link: https://getpocket.com/developer/apps/new"
   ]
  },
  {
   "cell_type": "markdown",
   "metadata": {},
   "source": [
    "***Step 2***<br/>\n",
    "Get a request token"
   ]
  },
  {
   "cell_type": "code",
   "execution_count": 2,
   "metadata": {},
   "outputs": [],
   "source": [
    "# pocket_api variable stores the http response\n",
    "pocket_api = requests.post('https://getpocket.com/v3/oauth/request',\n",
    "                           data = {'consumer_key':'82710-efa2906be95b400ce9fad6f8',\n",
    "                                   'redirect_uri':'https://google.com'})\n"
   ]
  },
  {
   "cell_type": "code",
   "execution_count": 3,
   "metadata": {},
   "outputs": [
    {
     "data": {
      "text/plain": [
       "200"
      ]
     },
     "execution_count": 3,
     "metadata": {},
     "output_type": "execute_result"
    }
   ],
   "source": [
    "pocket_api.status_code "
   ]
  },
  {
   "cell_type": "code",
   "execution_count": 4,
   "metadata": {},
   "outputs": [
    {
     "data": {
      "text/plain": [
       "'code=3df2b245-ceb0-3a72-b494-9f47e6'"
      ]
     },
     "execution_count": 4,
     "metadata": {},
     "output_type": "execute_result"
    }
   ],
   "source": [
    "pocket_api.text\n"
   ]
  },
  {
   "cell_type": "markdown",
   "metadata": {},
   "source": [
    "***STEP 3***<br/>\n",
    "Authenticate<br/> \n",
    "- Modify and paste the link below in the browser and authenticate <br/> \n",
    "- Replace text after \"?request_token=\" with the request_token generated above<br/> \n",
    "https://getpocket.com/auth/authorize?request_token=PASTE-YOUR-REQUEST-TOKEN-HERE&amp;amp;amp;amp;amp;amp;amp;amp;amp;redirect_uri=https://getpocket.com/connected_application"
   ]
  },
  {
   "cell_type": "markdown",
   "metadata": {},
   "source": [
    "https://getpocket.com/auth/authorize?request_token=9080cc45-e147-e924-5c39-d4f6a7&amp;amp;amp;amp;amp;amp;amp;amp;amp;redirect_uri=https://getpocket.com/connected_application"
   ]
  },
  {
   "cell_type": "markdown",
   "metadata": {},
   "source": [
    " **STEP 4**\n",
    "- Generate an access_token\n",
    "- After authenticating in the browser, return here\n",
    "- Use your consumer_key and request_token below"
   ]
  },
  {
   "cell_type": "code",
   "execution_count": 5,
   "metadata": {},
   "outputs": [],
   "source": [
    "pocket_auth = requests.post('https://getpocket.com/v3/oauth/authorize',\n",
    "                            data = {'consumer_key':'82710-efa2906be95b400ce9fad6f8',\n",
    "                                    'code':'9080cc45-e147-e924-5c39-d4f6a7'})"
   ]
  },
  {
   "cell_type": "code",
   "execution_count": 6,
   "metadata": {},
   "outputs": [
    {
     "data": {
      "text/plain": [
       "403"
      ]
     },
     "execution_count": 6,
     "metadata": {},
     "output_type": "execute_result"
    }
   ],
   "source": [
    "pocket_auth.status_code\n"
   ]
  },
  {
   "cell_type": "code",
   "execution_count": 7,
   "metadata": {},
   "outputs": [
    {
     "data": {
      "text/plain": [
       "'403 Forbidden'"
      ]
     },
     "execution_count": 7,
     "metadata": {},
     "output_type": "execute_result"
    }
   ],
   "source": [
    "# Finally, here is your access_token\n",
    "# We're done authenticating\n",
    "pocket_auth.text"
   ]
  },
  {
   "cell_type": "markdown",
   "metadata": {},
   "source": [
    "Get Data from the api"
   ]
  },
  {
   "cell_type": "code",
   "execution_count": 8,
   "metadata": {
    "scrolled": false
   },
   "outputs": [],
   "source": [
    "# Get data from the API\n",
    "# Reference: https://getpocket.com/developer/docs/v3/retrieve\n",
    "pocket_add = requests.post('https://getpocket.com/v3/get',\n",
    "                           data= {'consumer_key':'82710-efa2906be95b400ce9fad6f8',\n",
    "                                  'access_token':'81159e5f-c60a-dadd-0b50-1b1c40',\n",
    "                                  'state':'all',\n",
    "                                  'detailType':'simple'})\n",
    " \n",
    "# Check the response: if 200, then it means all OK\n",
    "# pocket_add.status_code\n",
    " \n",
    "# Here is your fetched JSON data\n",
    "#pocket_add.text"
   ]
  },
  {
   "cell_type": "code",
   "execution_count": 77,
   "metadata": {
    "scrolled": false
   },
   "outputs": [
    {
     "data": {
      "text/html": [
       "<div>\n",
       "<style scoped>\n",
       "    .dataframe tbody tr th:only-of-type {\n",
       "        vertical-align: middle;\n",
       "    }\n",
       "\n",
       "    .dataframe tbody tr th {\n",
       "        vertical-align: top;\n",
       "    }\n",
       "\n",
       "    .dataframe thead th {\n",
       "        text-align: right;\n",
       "    }\n",
       "</style>\n",
       "<table border=\"1\" class=\"dataframe\">\n",
       "  <thead>\n",
       "    <tr style=\"text-align: right;\">\n",
       "      <th></th>\n",
       "      <th>item_id</th>\n",
       "      <th>status</th>\n",
       "      <th>favorite</th>\n",
       "      <th>given_title</th>\n",
       "      <th>given_url</th>\n",
       "      <th>resolved_url</th>\n",
       "      <th>time_added</th>\n",
       "      <th>time_read</th>\n",
       "      <th>time_to_read</th>\n",
       "      <th>word_count</th>\n",
       "    </tr>\n",
       "  </thead>\n",
       "  <tbody>\n",
       "    <tr>\n",
       "      <th>2153281756</th>\n",
       "      <td>2153281756</td>\n",
       "      <td>0</td>\n",
       "      <td>0</td>\n",
       "      <td>Working With JSON Data in Python – Real Python</td>\n",
       "      <td>https://realpython.com/python-json/</td>\n",
       "      <td>https://realpython.com/python-json/</td>\n",
       "      <td>1545314311</td>\n",
       "      <td>0</td>\n",
       "      <td>16</td>\n",
       "      <td>3517</td>\n",
       "    </tr>\n",
       "    <tr>\n",
       "      <th>2137887466</th>\n",
       "      <td>2137887466</td>\n",
       "      <td>0</td>\n",
       "      <td>0</td>\n",
       "      <td>Analyzing 10  Years of My Facebook Data - Lee ...</td>\n",
       "      <td>https://www.leejamesrobinson.com/blog/analyzin...</td>\n",
       "      <td>https://www.leejamesrobinson.com/blog/analyzin...</td>\n",
       "      <td>1545312169</td>\n",
       "      <td>0</td>\n",
       "      <td>4</td>\n",
       "      <td>934</td>\n",
       "    </tr>\n",
       "    <tr>\n",
       "      <th>2011240772</th>\n",
       "      <td>2011240772</td>\n",
       "      <td>0</td>\n",
       "      <td>0</td>\n",
       "      <td>CastBox 101: How to Download and Organize Podc...</td>\n",
       "      <td>https://medium.com/@castbox.fm/castbox-101-how...</td>\n",
       "      <td>https://medium.com/@castbox.fm/castbox-101-how...</td>\n",
       "      <td>1545310006</td>\n",
       "      <td>0</td>\n",
       "      <td>NaN</td>\n",
       "      <td>327</td>\n",
       "    </tr>\n",
       "    <tr>\n",
       "      <th>237938806</th>\n",
       "      <td>237938806</td>\n",
       "      <td>0</td>\n",
       "      <td>0</td>\n",
       "      <td>Pocket Developer Program: Pocket API: Retrieve</td>\n",
       "      <td>https://getpocket.com/developer/docs/v3/retrieve</td>\n",
       "      <td>https://getpocket.com/developer/docs/v3/retrieve</td>\n",
       "      <td>1545248521</td>\n",
       "      <td>0</td>\n",
       "      <td>4</td>\n",
       "      <td>858</td>\n",
       "    </tr>\n",
       "    <tr>\n",
       "      <th>1243533370</th>\n",
       "      <td>1243533370</td>\n",
       "      <td>0</td>\n",
       "      <td>0</td>\n",
       "      <td>Add Pocket API using Python - Tutorial</td>\n",
       "      <td>http://saideepchandg.github.io/pocket/2016/02/...</td>\n",
       "      <td>https://saideepchandg.github.io/pocket/2016/02...</td>\n",
       "      <td>1545248076</td>\n",
       "      <td>0</td>\n",
       "      <td>NaN</td>\n",
       "      <td>229</td>\n",
       "    </tr>\n",
       "  </tbody>\n",
       "</table>\n",
       "</div>"
      ],
      "text/plain": [
       "               item_id status favorite  \\\n",
       "2153281756  2153281756      0        0   \n",
       "2137887466  2137887466      0        0   \n",
       "2011240772  2011240772      0        0   \n",
       "237938806    237938806      0        0   \n",
       "1243533370  1243533370      0        0   \n",
       "\n",
       "                                                  given_title  \\\n",
       "2153281756     Working With JSON Data in Python – Real Python   \n",
       "2137887466  Analyzing 10  Years of My Facebook Data - Lee ...   \n",
       "2011240772  CastBox 101: How to Download and Organize Podc...   \n",
       "237938806      Pocket Developer Program: Pocket API: Retrieve   \n",
       "1243533370             Add Pocket API using Python - Tutorial   \n",
       "\n",
       "                                                    given_url  \\\n",
       "2153281756                https://realpython.com/python-json/   \n",
       "2137887466  https://www.leejamesrobinson.com/blog/analyzin...   \n",
       "2011240772  https://medium.com/@castbox.fm/castbox-101-how...   \n",
       "237938806    https://getpocket.com/developer/docs/v3/retrieve   \n",
       "1243533370  http://saideepchandg.github.io/pocket/2016/02/...   \n",
       "\n",
       "                                                 resolved_url  time_added  \\\n",
       "2153281756                https://realpython.com/python-json/  1545314311   \n",
       "2137887466  https://www.leejamesrobinson.com/blog/analyzin...  1545312169   \n",
       "2011240772  https://medium.com/@castbox.fm/castbox-101-how...  1545310006   \n",
       "237938806    https://getpocket.com/developer/docs/v3/retrieve  1545248521   \n",
       "1243533370  https://saideepchandg.github.io/pocket/2016/02...  1545248076   \n",
       "\n",
       "           time_read time_to_read word_count  \n",
       "2153281756         0           16       3517  \n",
       "2137887466         0            4        934  \n",
       "2011240772         0          NaN        327  \n",
       "237938806          0            4        858  \n",
       "1243533370         0          NaN        229  "
      ]
     },
     "execution_count": 77,
     "metadata": {},
     "output_type": "execute_result"
    }
   ],
   "source": [
    "json_data = json.loads(pocket_add.text)\n",
    "\n",
    "df= pd.DataFrame.from_dict(json_data['list']).T\n",
    "\n",
    "df = df[['item_id','status','favorite','given_title','given_url','resolved_url','time_added','time_read','time_to_read','word_count']]\n",
    "df.head()"
   ]
  },
  {
   "cell_type": "code",
   "execution_count": 78,
   "metadata": {},
   "outputs": [
    {
     "data": {
      "text/html": [
       "<div>\n",
       "<style scoped>\n",
       "    .dataframe tbody tr th:only-of-type {\n",
       "        vertical-align: middle;\n",
       "    }\n",
       "\n",
       "    .dataframe tbody tr th {\n",
       "        vertical-align: top;\n",
       "    }\n",
       "\n",
       "    .dataframe thead th {\n",
       "        text-align: right;\n",
       "    }\n",
       "</style>\n",
       "<table border=\"1\" class=\"dataframe\">\n",
       "  <thead>\n",
       "    <tr style=\"text-align: right;\">\n",
       "      <th></th>\n",
       "      <th>item_id</th>\n",
       "      <th>status</th>\n",
       "      <th>favorite</th>\n",
       "      <th>given_title</th>\n",
       "      <th>given_url</th>\n",
       "      <th>resolved_url</th>\n",
       "      <th>time_added</th>\n",
       "      <th>time_read</th>\n",
       "      <th>time_to_read</th>\n",
       "      <th>word_count</th>\n",
       "    </tr>\n",
       "  </thead>\n",
       "  <tbody>\n",
       "    <tr>\n",
       "      <th>False</th>\n",
       "      <td>NaN</td>\n",
       "      <td>NaN</td>\n",
       "      <td>NaN</td>\n",
       "      <td>NaN</td>\n",
       "      <td>NaN</td>\n",
       "      <td>4</td>\n",
       "      <td>NaN</td>\n",
       "      <td>NaN</td>\n",
       "      <td>1241</td>\n",
       "      <td>4</td>\n",
       "    </tr>\n",
       "    <tr>\n",
       "      <th>True</th>\n",
       "      <td>2522.0</td>\n",
       "      <td>2522.0</td>\n",
       "      <td>2522.0</td>\n",
       "      <td>2522.0</td>\n",
       "      <td>2522.0</td>\n",
       "      <td>2518</td>\n",
       "      <td>2522.0</td>\n",
       "      <td>2522.0</td>\n",
       "      <td>1281</td>\n",
       "      <td>2518</td>\n",
       "    </tr>\n",
       "  </tbody>\n",
       "</table>\n",
       "</div>"
      ],
      "text/plain": [
       "       item_id  status  favorite  given_title  given_url  resolved_url  \\\n",
       "False      NaN     NaN       NaN          NaN        NaN             4   \n",
       "True    2522.0  2522.0    2522.0       2522.0     2522.0          2518   \n",
       "\n",
       "       time_added  time_read  time_to_read  word_count  \n",
       "False         NaN        NaN          1241           4  \n",
       "True       2522.0     2522.0          1281        2518  "
      ]
     },
     "execution_count": 78,
     "metadata": {},
     "output_type": "execute_result"
    }
   ],
   "source": [
    "# Clean up the dataset\n",
    "# Chek NaN\n",
    "df.notnull().apply(pd.Series.value_counts)\n",
    "\n"
   ]
  },
  {
   "cell_type": "code",
   "execution_count": 79,
   "metadata": {},
   "outputs": [],
   "source": [
    "available = df.notnull()\n",
    "mask= available['word_count']&available['time_to_read']\n",
    "df = df[mask]"
   ]
  },
  {
   "cell_type": "code",
   "execution_count": 81,
   "metadata": {},
   "outputs": [
    {
     "data": {
      "text/plain": [
       "item_id                 object\n",
       "status                   int32\n",
       "favorite                 int32\n",
       "given_title             object\n",
       "given_url               object\n",
       "resolved_url            object\n",
       "time_added      datetime64[ns]\n",
       "time_read       datetime64[ns]\n",
       "time_to_read             int32\n",
       "word_count               int32\n",
       "date_added              object\n",
       "date_read               object\n",
       "dtype: object"
      ]
     },
     "execution_count": 81,
     "metadata": {},
     "output_type": "execute_result"
    }
   ],
   "source": [
    "# Clean up the dataset\n",
    "df.dtypes\n",
    "df[['status','favorite','word_count','time_to_read']] = df[['status','favorite','word_count','time_to_read']].astype(int)\n",
    "df['time_added'] = pd.to_datetime(df['time_added'],unit='s')\n",
    "df['time_read'] = pd.to_datetime(df['time_read'],unit='s')\n",
    "df['date_added'] = df['time_added'].dt.date\n",
    "df['date_read'] = df['time_read'].dt.date\n",
    " \n",
    "# Save the dataframe as CSV locally\n",
    "df.to_csv('pocket_list.csv')\n",
    " \n",
    "# Check the data types\n",
    "df.dtypes"
   ]
  },
  {
   "cell_type": "code",
   "execution_count": 82,
   "metadata": {},
   "outputs": [
    {
     "name": "stdout",
     "output_type": "stream",
     "text": [
      "1281\n",
      "97.26775956284153\n"
     ]
    }
   ],
   "source": [
    "# Answer questions using data\n",
    " \n",
    "# How many items are there in my Pocket?\n",
    "print(df['item_id'].count())\n",
    " \n",
    "# What % of articles are read?\n",
    "print((df['status'].sum()*100)/df['item_id'].count())\n"
   ]
  },
  {
   "cell_type": "code",
   "execution_count": 84,
   "metadata": {},
   "outputs": [
    {
     "data": {
      "text/plain": [
       "count    1281.000000\n",
       "mean        8.053084\n",
       "std         9.016495\n",
       "min         3.000000\n",
       "25%         4.000000\n",
       "50%         6.000000\n",
       "75%         9.000000\n",
       "max       155.000000\n",
       "Name: time_to_read, dtype: float64"
      ]
     },
     "execution_count": 84,
     "metadata": {},
     "output_type": "execute_result"
    }
   ],
   "source": [
    "# How long is the average article in my Pocket? (minutes)\n",
    "df['time_to_read'].describe()"
   ]
  },
  {
   "cell_type": "code",
   "execution_count": 86,
   "metadata": {},
   "outputs": [
    {
     "data": {
      "text/plain": [
       "count     1281.000000\n",
       "mean      1765.597190\n",
       "std       1985.287671\n",
       "min        550.000000\n",
       "25%        837.000000\n",
       "50%       1249.000000\n",
       "75%       2053.000000\n",
       "max      34197.000000\n",
       "Name: word_count, dtype: float64"
      ]
     },
     "execution_count": 86,
     "metadata": {},
     "output_type": "execute_result"
    }
   ],
   "source": [
    "# How long is the average article in my Pocket? (word count)\n",
    "df['word_count'].describe()"
   ]
  },
  {
   "cell_type": "code",
   "execution_count": 88,
   "metadata": {},
   "outputs": [
    {
     "name": "stdout",
     "output_type": "stream",
     "text": [
      "2196062\n",
      "34.31346875\n"
     ]
    }
   ],
   "source": [
    "# How many words have I read till date?\n",
    "print(df.loc[df['status'] == 1, 'word_count'].sum())\n",
    " \n",
    "# How many books is this equivalent to?\n",
    "print(df.loc[df['status'] == 1, 'word_count'].sum()/64000)\n"
   ]
  },
  {
   "cell_type": "code",
   "execution_count": 97,
   "metadata": {},
   "outputs": [
    {
     "data": {
      "text/plain": [
       "<matplotlib.axes._subplots.AxesSubplot at 0x2714448f3c8>"
      ]
     },
     "execution_count": 97,
     "metadata": {},
     "output_type": "execute_result"
    },
    {
     "data": {
      "image/png": "[encoded data removed]",
      "text/plain": [
       "<Figure size 432x288 with 1 Axes>"
      ]
     },
     "metadata": {
      "needs_background": "light"
     },
     "output_type": "display_data"
    }
   ],
   "source": [
    "# How were the articles added over time?\n",
    "plot_added = df.groupby('date_added')['item_id'].count()\n",
    "plot_added.plot()\n"
   ]
  },
  {
   "cell_type": "code",
   "execution_count": 99,
   "metadata": {},
   "outputs": [
    {
     "data": {
      "text/plain": [
       "<matplotlib.axes._subplots.AxesSubplot at 0x27142a4d8d0>"
      ]
     },
     "execution_count": 99,
     "metadata": {},
     "output_type": "execute_result"
    },
    {
     "data": {
      "image/png": "[encoded data removed]",
      "text/plain": [
       "<Figure size 432x288 with 1 Axes>"
      ]
     },
     "metadata": {
      "needs_background": "light"
     },
     "output_type": "display_data"
    }
   ],
   "source": [
    "# How were the articles read over time?\n",
    "plot_read = df.groupby('date_read')['status'].sum()\n",
    "plot_read.plot()"
   ]
  },
  {
   "cell_type": "code",
   "execution_count": 100,
   "metadata": {},
   "outputs": [
    {
     "name": "stdout",
     "output_type": "stream",
     "text": [
      "<wordcloud.wordcloud.WordCloud object at 0x00000271451447F0>\n"
     ]
    },
    {
     "data": {
      "image/png": "[encoded data removed]",
      "text/plain": [
       "<Figure size 432x288 with 1 Axes>"
      ]
     },
     "metadata": {
      "needs_background": "light"
     },
     "output_type": "display_data"
    }
   ],
   "source": [
    "from wordcloud import WordCloud, STOPWORDS\n",
    " \n",
    "stopwords = set(STOPWORDS)\n",
    "wordcloud = WordCloud(background_color='white',\n",
    "                      stopwords=stopwords,\n",
    "                      max_words=300,\n",
    "                      max_font_size=40, \n",
    "                      random_state=42\n",
    "                      ).generate(str(df['given_title']))\n",
    " \n",
    "print(wordcloud)\n",
    "fig = plt.figure(1)\n",
    "plt.imshow(wordcloud)\n",
    "plt.axis('off')\n",
    "plt.show()\n",
    "fig.savefig(\"Pocket Wordcloud.png\", dpi=900)"
   ]
  },
  {
   "cell_type": "code",
   "execution_count": null,
   "metadata": {},
   "outputs": [],
   "source": []
  },
  {
   "cell_type": "code",
   "execution_count": null,
   "metadata": {},
   "outputs": [],
   "source": []
  }
 ],
 "metadata": {
  "kernelspec": {
   "display_name": "Python 3",
   "language": "python",
   "name": "python3"
  },
  "language_info": {
   "codemirror_mode": {
    "name": "ipython",
    "version": 3
   },
   "file_extension": ".py",
   "mimetype": "text/x-python",
   "name": "python",
   "nbconvert_exporter": "python",
   "pygments_lexer": "ipython3",
   "version": "3.7.0"
  }
 },
 "nbformat": 4,
 "nbformat_minor": 2
}
